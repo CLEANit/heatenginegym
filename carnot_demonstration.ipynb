{
 "cells": [
  {
   "cell_type": "code",
   "execution_count": null,
   "metadata": {
    "collapsed": false
   },
   "outputs": [],
   "source": [
    "import matplotlib.pyplot as plt\n",
    "%matplotlib inline\n",
    "from IPython.display import clear_output\n",
    "import numpy as np\n",
    "from carnot import CarnotEnv"
   ]
  },
  {
   "cell_type": "markdown",
   "metadata": {},
   "source": [
    "# Carnot cycle environment test\n",
    "\n",
    "This notebook tests the Carnot Cycle environment."
   ]
  },
  {
   "cell_type": "code",
   "execution_count": null,
   "metadata": {
    "collapsed": false
   },
   "outputs": [],
   "source": [
    "#First, initialise the environment\n",
    "cyc = CarnotEnv(Ti=300., Vi=0.001, Tc=273.15, Th=273.15+200., dV=0.000001)"
   ]
  },
  {
   "cell_type": "code",
   "execution_count": null,
   "metadata": {
    "collapsed": false
   },
   "outputs": [],
   "source": [
    "# Given the conditions specified above, compute the actions required to precisely hit the\n",
    "# carnot efficiency\n",
    "actions = cyc.get_perfect_carnot_action_set(100)"
   ]
  },
  {
   "cell_type": "code",
   "execution_count": null,
   "metadata": {
    "collapsed": false
   },
   "outputs": [],
   "source": [
    "Ps = []\n",
    "Vs = []\n",
    "#Ss = []\n",
    "Ts = []\n",
    "As = []\n",
    "etas = []\n",
    "cyc.reset()\n",
    "\n",
    "for i,action in enumerate(actions):\n",
    "    \n",
    "    Ps.append(cyc.engine.P)\n",
    "    Vs.append(cyc.engine.V)\n",
    "    Ts.append(cyc.engine.T)\n",
    "    a = cyc.action_map[action]\n",
    "    As.append(a)\n",
    "    cyc.step(a)\n",
    "    Q = np.array(cyc.Q).sum()\n",
    "    W = np.array(cyc.W).sum()\n",
    "    etas.append(W/Q)\n",
    "    \n",
    "    if i % 50==0:\n",
    "        fig, ax = plt.subplots(1,2, figsize=(15,5))\n",
    "        ax[0].scatter(Vs, Ps, s=30, c=As, cmap='Dark2')\n",
    "        ax[0].scatter(Vs[-1], Ps[-1], s=100, c='k')\n",
    "        ax[0].set_xlim(cyc.engine.Vmin*0.9, cyc.engine.Vmax*1.1)\n",
    "        ax[0].set_ylim(cyc.engine.Pmin*0.9, cyc.engine.Pmax*1.1)\n",
    "        ax[0].set_ylabel(\"Pressure [kPa]\")\n",
    "        ax[0].set_xlabel(\"Volume [m$^3$]\")\n",
    "        ax[1].set_xlabel(\"Time\")\n",
    "        ax[1].set_ylabel(\"Overall Efficiency, $\\eta = dW/dQ$\")\n",
    "        ax[1].plot(etas)\n",
    "        ax[1].set_ylim(-1,1)\n",
    "        ax[1].axhline(y=1-(cyc.engine.Tc / cyc.engine.Th), ls='--')\n",
    "        plt.show()\n",
    "        plt.close()\n",
    "        clear_output(wait=True)\n",
    "        #Ps.append(cyc.engine.P)"
   ]
  },
  {
   "cell_type": "code",
   "execution_count": null,
   "metadata": {
    "collapsed": true
   },
   "outputs": [],
   "source": []
  },
  {
   "cell_type": "code",
   "execution_count": null,
   "metadata": {
    "collapsed": false
   },
   "outputs": [],
   "source": []
  },
  {
   "cell_type": "code",
   "execution_count": null,
   "metadata": {
    "collapsed": true
   },
   "outputs": [],
   "source": []
  }
 ],
 "metadata": {
  "anaconda-cloud": {},
  "kernelspec": {
   "display_name": "Python [conda root]",
   "language": "python",
   "name": "conda-root-py"
  },
  "language_info": {
   "codemirror_mode": {
    "name": "ipython",
    "version": 2
   },
   "file_extension": ".py",
   "mimetype": "text/x-python",
   "name": "python",
   "nbconvert_exporter": "python",
   "pygments_lexer": "ipython2",
   "version": "2.7.12"
  }
 },
 "nbformat": 4,
 "nbformat_minor": 1
}
